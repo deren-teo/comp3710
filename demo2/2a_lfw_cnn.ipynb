{
 "cells": [
  {
   "cell_type": "markdown",
   "metadata": {},
   "source": [
    "# Part 2a: CNNs (LFW Dataset)\n",
    "\n",
    "This notebook improves on the LFW classification result of Part 1 using a very simple convolutional neural network (CNN)."
   ]
  },
  {
   "cell_type": "code",
   "execution_count": 1,
   "metadata": {},
   "outputs": [
    {
     "name": "stdout",
     "output_type": "stream",
     "text": [
      "PyTorch Version :\t 2.0.1+cu118\n",
      "CUDA Available? :\t True\n"
     ]
    }
   ],
   "source": [
    "import numpy as np\n",
    "import torch\n",
    "\n",
    "print(\"PyTorch Version :\\t\", torch.__version__)\n",
    "print(\"CUDA Available? :\\t\", torch.cuda.is_available())"
   ]
  },
  {
   "cell_type": "markdown",
   "metadata": {},
   "source": [
    "### Data Preparation"
   ]
  },
  {
   "cell_type": "code",
   "execution_count": 2,
   "metadata": {},
   "outputs": [],
   "source": [
    "from sklearn.datasets import fetch_lfw_people\n",
    "\n",
    "# Cached in \"~/scikit_learn_data\" after first download\n",
    "lfw_people = fetch_lfw_people(min_faces_per_person=70, resize=0.4)\n",
    "\n",
    "X = lfw_people.images\n",
    "y = lfw_people.target"
   ]
  },
  {
   "cell_type": "code",
   "execution_count": 3,
   "metadata": {},
   "outputs": [],
   "source": [
    "from sklearn.model_selection import train_test_split\n",
    "\n",
    "# Split into a training set and a test set using a stratified k fold\n",
    "X_train, X_test, y_train, y_test = train_test_split(X, y, test_size=0.25, random_state=42)\n",
    "\n",
    "# Reshape data into 4D array (added dimension is channels)\n",
    "X_train = X_train[:, np.newaxis, :, :]\n",
    "X_test = X_test[:, np.newaxis, :]\n",
    "\n",
    "# Load all data and labels into Tensor objects\n",
    "X_train = torch.tensor(X_train, device=\"cuda\")\n",
    "y_train = torch.tensor(y_train, device=\"cuda\")\n",
    "X_test = torch.tensor(X_test, device=\"cuda\")\n",
    "y_test = torch.tensor(y_test, device=\"cuda\")"
   ]
  },
  {
   "cell_type": "markdown",
   "metadata": {},
   "source": [
    "### Create a CNN Model"
   ]
  },
  {
   "cell_type": "code",
   "execution_count": 4,
   "metadata": {},
   "outputs": [],
   "source": [
    "import torch.nn as nn\n",
    "\n",
    "class Flatten(nn.Module):\n",
    "    def forward(self, x):\n",
    "        return x.view(x.size(0), -1)\n",
    "\n",
    "class SimpleCNN(nn.Module):\n",
    "    def __init__(self, in_channels, num_classes):\n",
    "        super().__init__()\n",
    "        self.in_channels = in_channels\n",
    "        self.num_classes = num_classes\n",
    "        self.layers = self._make_layers(self.in_channels, self.num_classes)\n",
    "\n",
    "    def forward(self, x):\n",
    "        return self.layers(x)\n",
    "\n",
    "    def _make_layers(self, in_channels, out_channels):\n",
    "        layers = [\n",
    "            nn.Conv2d(in_channels, 32, kernel_size=3, padding=1),\n",
    "            nn.BatchNorm2d(32),\n",
    "            nn.ReLU(inplace=True),\n",
    "            nn.Conv2d(32, 64, kernel_size=3, padding=1),\n",
    "            nn.BatchNorm2d(64),\n",
    "            nn.ReLU(inplace=True),\n",
    "            Flatten(),\n",
    "            nn.Linear(64 * 50 * 37, 256),\n",
    "            nn.Linear(256, out_channels)\n",
    "        ]\n",
    "        return nn.Sequential(*layers)"
   ]
  },
  {
   "cell_type": "code",
   "execution_count": 5,
   "metadata": {},
   "outputs": [
    {
     "name": "stdout",
     "output_type": "stream",
     "text": [
      "Model No. of Parameters: 30331463\n",
      "SimpleCNN(\n",
      "  (layers): Sequential(\n",
      "    (0): Conv2d(1, 32, kernel_size=(3, 3), stride=(1, 1), padding=(1, 1))\n",
      "    (1): BatchNorm2d(32, eps=1e-05, momentum=0.1, affine=True, track_running_stats=True)\n",
      "    (2): ReLU(inplace=True)\n",
      "    (3): Conv2d(32, 64, kernel_size=(3, 3), stride=(1, 1), padding=(1, 1))\n",
      "    (4): BatchNorm2d(64, eps=1e-05, momentum=0.1, affine=True, track_running_stats=True)\n",
      "    (5): ReLU(inplace=True)\n",
      "    (6): Flatten()\n",
      "    (7): Linear(in_features=118400, out_features=256, bias=True)\n",
      "    (8): Linear(in_features=256, out_features=7, bias=True)\n",
      "  )\n",
      ")\n"
     ]
    }
   ],
   "source": [
    "# Define the model\n",
    "model = SimpleCNN(in_channels=1, num_classes=len(np.unique(y)))\n",
    "model.to(\"cuda\")\n",
    "\n",
    "# Model info\n",
    "print(\"Model No. of Parameters:\", sum([param.nelement() for param in model.parameters()]))\n",
    "print(model)\n",
    "\n",
    "# Loss function and optimizer + hyperparameters\n",
    "criterion = nn.CrossEntropyLoss()\n",
    "optimizer = torch.optim.Adam(model.parameters(), lr=1e-3)"
   ]
  },
  {
   "cell_type": "markdown",
   "metadata": {},
   "source": [
    "### Train the CNN Model"
   ]
  },
  {
   "cell_type": "code",
   "execution_count": 6,
   "metadata": {},
   "outputs": [
    {
     "name": "stderr",
     "output_type": "stream",
     "text": [
      "/home/derenteo/git/comp3710/.venv/lib/python3.10/site-packages/torch/nn/modules/conv.py:459: UserWarning: Applied workaround for CuDNN issue, install nvrtc.so (Triggered internally at ../aten/src/ATen/native/cudnn/Conv_v8.cpp:80.)\n",
      "  return F.conv2d(input, weight, bias, self.stride,\n"
     ]
    },
    {
     "name": "stdout",
     "output_type": "stream",
     "text": [
      "Epoch [1/20]\tLoss: 4.11037\n",
      "Epoch [2/20]\tLoss: 1.06806\n",
      "Epoch [3/20]\tLoss: 0.00000\n",
      "Epoch [4/20]\tLoss: 0.00000\n",
      "Epoch [5/20]\tLoss: 0.00000\n",
      "Epoch [6/20]\tLoss: 0.00021\n",
      "Epoch [7/20]\tLoss: 0.00000\n",
      "Epoch [8/20]\tLoss: 0.00000\n",
      "Epoch [9/20]\tLoss: 0.00000\n",
      "Epoch [10/20]\tLoss: 0.00001\n",
      "Epoch [11/20]\tLoss: 0.00000\n",
      "Epoch [12/20]\tLoss: 0.00000\n",
      "Epoch [13/20]\tLoss: 0.00000\n",
      "Epoch [14/20]\tLoss: 0.00004\n",
      "Epoch [15/20]\tLoss: 0.00000\n",
      "Epoch [16/20]\tLoss: 0.00000\n",
      "Epoch [17/20]\tLoss: 0.00000\n",
      "Epoch [18/20]\tLoss: 0.00000\n",
      "Epoch [19/20]\tLoss: 0.00000\n",
      "Epoch [20/20]\tLoss: 0.00000\n"
     ]
    }
   ],
   "source": [
    "NUM_EPOCHS = 20\n",
    "BATCH_SIZE = 64\n",
    "\n",
    "# Batch the training data\n",
    "X_train_batches = torch.split(X_train, BATCH_SIZE)\n",
    "y_train_batches = torch.split(y_train, BATCH_SIZE)\n",
    "\n",
    "# Set the model in training mode\n",
    "model.train()\n",
    "for epoch in range(NUM_EPOCHS):\n",
    "    for i, (images, labels) in enumerate(zip(X_train_batches, y_train_batches)):\n",
    "\n",
    "        # Forward pass\n",
    "        outputs = model(images)\n",
    "        loss = criterion(outputs, labels)\n",
    "\n",
    "        # Backward and optimize\n",
    "        optimizer.zero_grad()\n",
    "        loss.backward()\n",
    "        optimizer.step()\n",
    "\n",
    "    # Training report\n",
    "    print(f\"Epoch [{epoch+1}/{NUM_EPOCHS}]\\tLoss: {loss.item():.5f}\")"
   ]
  },
  {
   "cell_type": "markdown",
   "metadata": {},
   "source": [
    "### Test the CNN Model"
   ]
  },
  {
   "cell_type": "code",
   "execution_count": 7,
   "metadata": {},
   "outputs": [
    {
     "name": "stdout",
     "output_type": "stream",
     "text": [
      "Test accuracy: 87.27%\n"
     ]
    }
   ],
   "source": [
    "# Split the test data into batches\n",
    "X_test_batches = torch.split(X_test, BATCH_SIZE)\n",
    "y_test_batches = torch.split(y_test, BATCH_SIZE)\n",
    "\n",
    "# Set the model in evaluation (test) mode\n",
    "model.eval()\n",
    "\n",
    "with torch.no_grad():\n",
    "    correct = 0\n",
    "    total = 0\n",
    "    for images, labels in zip(X_test_batches, y_test_batches):\n",
    "        outputs = model(images)\n",
    "        _, predicted = torch.max(outputs.data, 1)\n",
    "        total += labels.size(0)\n",
    "        correct += (predicted == labels).sum().item()\n",
    "        \n",
    "print(f\"Test accuracy: {100 * correct / total:.2f}%\")"
   ]
  }
 ],
 "metadata": {
  "kernelspec": {
   "display_name": ".venv",
   "language": "python",
   "name": "python3"
  },
  "language_info": {
   "codemirror_mode": {
    "name": "ipython",
    "version": 3
   },
   "file_extension": ".py",
   "mimetype": "text/x-python",
   "name": "python",
   "nbconvert_exporter": "python",
   "pygments_lexer": "ipython3",
   "version": "3.10.12"
  },
  "orig_nbformat": 4
 },
 "nbformat": 4,
 "nbformat_minor": 2
}
